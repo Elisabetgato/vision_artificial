{
 "cells": [
  {
   "cell_type": "code",
   "execution_count": 13,
   "id": "bac7fdd8-889f-454d-b37b-60486b93916a",
   "metadata": {},
   "outputs": [],
   "source": [
    "import pandas as pd\n",
    "import requests\n",
    "import json"
   ]
  },
  {
   "cell_type": "code",
   "execution_count": 16,
   "id": "e8c197be-e7b4-491d-8b51-59fee79706ae",
   "metadata": {},
   "outputs": [],
   "source": [
    "dir_file = \"Documents/Master pontia/Proyecto Jupiter/lotes.json\"\n",
    "with open(dir_file) as json_file:\n",
    "    data_lotes = json.load(json_file)"
   ]
  },
  {
   "cell_type": "code",
   "execution_count": 17,
   "id": "a133a2cc-bda3-45c9-bd08-a18553e26134",
   "metadata": {
    "scrolled": true
   },
   "outputs": [
    {
     "data": {
      "text/html": [
       "<div>\n",
       "<style scoped>\n",
       "    .dataframe tbody tr th:only-of-type {\n",
       "        vertical-align: middle;\n",
       "    }\n",
       "\n",
       "    .dataframe tbody tr th {\n",
       "        vertical-align: top;\n",
       "    }\n",
       "\n",
       "    .dataframe thead th {\n",
       "        text-align: right;\n",
       "    }\n",
       "</style>\n",
       "<table border=\"1\" class=\"dataframe\">\n",
       "  <thead>\n",
       "    <tr style=\"text-align: right;\">\n",
       "      <th></th>\n",
       "      <th>0</th>\n",
       "    </tr>\n",
       "  </thead>\n",
       "  <tbody>\n",
       "    <tr>\n",
       "      <th>Apple 1.png</th>\n",
       "      <td>G80V76K49J80T71</td>\n",
       "    </tr>\n",
       "    <tr>\n",
       "      <th>Apple 10.png</th>\n",
       "      <td>G80V76K49L46V78M</td>\n",
       "    </tr>\n",
       "    <tr>\n",
       "      <th>Apple 100.png</th>\n",
       "      <td>G80V76K49L48J80T71</td>\n",
       "    </tr>\n",
       "    <tr>\n",
       "      <th>Apple 101.png</th>\n",
       "      <td>G80V76K49L49J80T71</td>\n",
       "    </tr>\n",
       "    <tr>\n",
       "      <th>Apple 102.png</th>\n",
       "      <td>G80V76K49L50J80T71</td>\n",
       "    </tr>\n",
       "    <tr>\n",
       "      <th>...</th>\n",
       "      <td>...</td>\n",
       "    </tr>\n",
       "    <tr>\n",
       "      <th>Tamotoes00995.png</th>\n",
       "      <td>D65S79D79K83L48U57Q46V78M</td>\n",
       "    </tr>\n",
       "    <tr>\n",
       "      <th>Tamotoes00996.png</th>\n",
       "      <td>D65S79D79K83L48U57R46V78M</td>\n",
       "    </tr>\n",
       "    <tr>\n",
       "      <th>Tamotoes00997.png</th>\n",
       "      <td>D65S79D79K83L48U57S46V78M</td>\n",
       "    </tr>\n",
       "    <tr>\n",
       "      <th>Tamotoes00998.png</th>\n",
       "      <td>D65S79D79K83L48U57T46V78M</td>\n",
       "    </tr>\n",
       "    <tr>\n",
       "      <th>Tamotoes00999.png</th>\n",
       "      <td>D65S79D79K83L48U57U46V78M</td>\n",
       "    </tr>\n",
       "  </tbody>\n",
       "</table>\n",
       "<p>69687 rows × 1 columns</p>\n",
       "</div>"
      ],
      "text/plain": [
       "                                           0\n",
       "Apple 1.png                  G80V76K49J80T71\n",
       "Apple 10.png                G80V76K49L46V78M\n",
       "Apple 100.png             G80V76K49L48J80T71\n",
       "Apple 101.png             G80V76K49L49J80T71\n",
       "Apple 102.png             G80V76K49L50J80T71\n",
       "...                                      ...\n",
       "Tamotoes00995.png  D65S79D79K83L48U57Q46V78M\n",
       "Tamotoes00996.png  D65S79D79K83L48U57R46V78M\n",
       "Tamotoes00997.png  D65S79D79K83L48U57S46V78M\n",
       "Tamotoes00998.png  D65S79D79K83L48U57T46V78M\n",
       "Tamotoes00999.png  D65S79D79K83L48U57U46V78M\n",
       "\n",
       "[69687 rows x 1 columns]"
      ]
     },
     "execution_count": 17,
     "metadata": {},
     "output_type": "execute_result"
    }
   ],
   "source": [
    "df_info_lote = pd.read_json(dir_file, orient=\"index\")\n",
    "df_info_lote"
   ]
  },
  {
   "cell_type": "code",
   "execution_count": null,
   "id": "b4cc5a4c-9552-4efc-b5a4-5f9065d9caac",
   "metadata": {},
   "outputs": [],
   "source": []
  }
 ],
 "metadata": {
  "kernelspec": {
   "display_name": "Python 3 (ipykernel)",
   "language": "python",
   "name": "python3"
  },
  "language_info": {
   "codemirror_mode": {
    "name": "ipython",
    "version": 3
   },
   "file_extension": ".py",
   "mimetype": "text/x-python",
   "name": "python",
   "nbconvert_exporter": "python",
   "pygments_lexer": "ipython3",
   "version": "3.11.7"
  }
 },
 "nbformat": 4,
 "nbformat_minor": 5
}
